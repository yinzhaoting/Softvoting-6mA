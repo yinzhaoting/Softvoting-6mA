{
 "cells": [
  {
   "cell_type": "code",
   "execution_count": null,
   "id": "4c89f8e1",
   "metadata": {},
   "outputs": [],
   "source": [
    "import keras\n",
    "from keras.models import Model\n",
    "from keras.layers import Dense, Dropout, Conv1D, Input,MaxPooling1D,Flatten,LeakyReLU,AveragePooling1D,concatenate,LSTM,Bidirectional,Conv2D,concatenate,GRU\n",
    "from keras.layers import BatchNormalization\n",
    "from tensorflow.keras.optimizers import SGD,Adam,RMSprop\n",
    "#from keras.optimizers import SGD, Adam,RMSprop\n",
    "import random\n",
    "import pandas as pd\n",
    "import numpy as np\n",
    "from Bio import SeqIO\n",
    "from keras import regularizers\n",
    "from keras.metrics import binary_accuracy,accuracy,acc\n",
    "import tensorflow as tf\n",
    "import matplotlib.pyplot as plt\n",
    "from keras.callbacks import EarlyStopping,ModelCheckpoint\n",
    "from keras.models import save_model,load_model"
   ]
  },
  {
   "cell_type": "code",
   "execution_count": null,
   "id": "85f01677",
   "metadata": {},
   "outputs": [],
   "source": [
    "model1 = XGBClassifier(random_state=100)\n",
    "model2 = GradientBoostingClassifier(random_state=100)\n",
    "model3 = lgb.LGBMClassifier(random_state=100)\n",
    "model4 = RandomForestClassifier(random_state=100)\n",
    "model5 = LogisticRegression(random_state=100)\n",
    "model6 = DecisionTreeClassifier(random_state=100)\n"
   ]
  },
  {
   "cell_type": "code",
   "execution_count": null,
   "id": "49be0e13",
   "metadata": {},
   "outputs": [],
   "source": [
    "import joblib\n",
    "model_deep = load_model('../best model/5fold/CNN_model0.h5')"
   ]
  },
  {
   "cell_type": "code",
   "execution_count": null,
   "id": "f2e4827f",
   "metadata": {},
   "outputs": [],
   "source": [
    "res1 = model1.predict_proba(test_5fold_1x[i])[:,1] \n",
    "res2 = model_deep.predict(test_5fold_2x[i])\n",
    "res3 = model2.predict_proba(test_5fold_1x[i])[:,1] \n",
    "res4 = model3.predict_proba(test_5fold_1x[i])[:,1] \n",
    "res2 = np.squeeze(res2,axis=-1)\n",
    "print(res1.shape,res2.shape)\n",
    "fin_res = (res1 + res2 + res3 + res4 )/4\n",
    "\n",
    "print(fin_res)"
   ]
  },
  {
   "cell_type": "code",
   "execution_count": null,
   "id": "424ecfb9",
   "metadata": {},
   "outputs": [],
   "source": [
    "pred =fin_res\n",
    "\n",
    "f = pred>0.5\n",
    "pred[f]=1\n",
    "pred[pred<0.6]=0\n",
    "sn_sp_acc_mcc1 = sn_sp_acc_mcc(test_5fold_y[i],pred,pos_label=1)\n",
    "print(sn_sp_acc_mcc1)\n",
    "import matplotlib.pyplot as plt\n",
    "from sklearn.metrics import roc_curve,auc\n",
    "FPR,TPR,threshold=roc_curve(test_5fold_y[i],(res1 + res2+ res3 +res4  )/4 ,pos_label=1)\n",
    "\n",
    "#AUC值计算\n",
    "AUC=auc(FPR,TPR)\n",
    "print(AUC)"
   ]
  }
 ],
 "metadata": {
  "kernelspec": {
   "display_name": "pytorch",
   "language": "python",
   "name": "pytorch"
  },
  "language_info": {
   "codemirror_mode": {
    "name": "ipython",
    "version": 3
   },
   "file_extension": ".py",
   "mimetype": "text/x-python",
   "name": "python",
   "nbconvert_exporter": "python",
   "pygments_lexer": "ipython3",
   "version": "3.7.12"
  }
 },
 "nbformat": 4,
 "nbformat_minor": 5
}
